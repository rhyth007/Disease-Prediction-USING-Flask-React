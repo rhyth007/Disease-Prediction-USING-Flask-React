{
 "cells": [
  {
   "cell_type": "code",
   "execution_count": 4,
   "metadata": {},
   "outputs": [],
   "source": [
    "import pandas as pd\n",
    "import pickle\n",
    "from sklearn.tree import DecisionTreeClassifier\n",
    "import pydotplus\n",
    "from sklearn import preprocessing\n",
    "from sklearn import tree\n",
    "\n",
    "from sklearn.model_selection import train_test_split\n",
    "#from sklearn.metrics import accuracy_score\n",
    "df = pd.read_csv(\"Training.csv\")\n",
    "X  = df.drop(columns=['prognosis'])\n",
    "y = df['prognosis']\n",
    "X_train, X_test, y_train, y_test = train_test_split(X,y,test_size=0.8)\n",
    "\n",
    "model = DecisionTreeClassifier()\n",
    "model.fit(X_train, y_train)\n",
    "# predictions = model.predict(X_test)\n",
    "# score=accuracy_score(y_test,predictions)\n",
    "# score\n",
    "tree.export_graphviz(model,out_file='Disease-Prediction.dot',\n",
    "                     feature_names=['itching','skin_rash','nodal_skin_eruptions','continuous_sneezing','shivering','chills',\n",
    "                                   'joint_pain','stomach_pain','acidity','ulcers_on_tongue','muscle_wasting','vomiting','burning_micturition',\n",
    "                                    'spotting_urination','fatigue','weight_gain','anxiety','cold_hands_and_feets','mood_swings','weight_loss',\n",
    "                                    'restlessness','lethargy','patches_in_throat','irregular_sugar_level','cough','high_fever','sunken_eyes',\n",
    "                                    'breathlessness','sweating','dehydration','indigestion','headache','yellowish_skin','dark_urine','nausea',\n",
    "                                    'loss_of_appetite','pain_behind_the_eyes','back_pain','constipation','abdominal_pain','diarrhoea','mild_fever',\n",
    "                                    'yellow_urine','yellowing_of_eyes','acute_liver_failure','fluid_overload','swelling_of_stomach','swelled_lymph_nodes',\n",
    "                                    'malaise','blurred_and_distorted_vision','phlegm','throat_irritation','redness_of_eyes','sinus_pressure','runny_nose',\n",
    "                                    'congestion','chest_pain','weakness_in_limbs','fast_heart_rate','pain_during_bowel_movements','pain_in_anal_region',\n",
    "                                    'bloody_stool','irritation_in_anus','neck_pain','dizziness','cramps','bruising','obesity','swollen_legs','swollen_blood_vessels',\n",
    "                                    'puffy_face_and_eyes','enlarged_thyroid','brittle_nails','swollen_extremeties','excessive_hunger','extra_marital_contacts','drying_and_tingling_lips',\n",
    "                                    'slurred_speech','knee_pain','hip_joint_pain','muscle_weakness','stiff_neck','swelling_joints','movement_stiffness','spinning_movements','loss_of_balance',\n",
    "                                    'unsteadiness','weakness_of_one_body_side','loss_of_smell','bladder_discomfort','foul_smell_of_urine','continuous_feel_of_urine','passage_of_gases','internal_itching',\n",
    "                                    'toxic_look_typhos','depression','irritability','muscle_pain','altered_sensorium','red_spots_over_body','belly_pain','abnormal_menstruation','dischromic_patches','watering_from_eyes',\n",
    "                                    'increased_appetite','polyuria','family_history','mucoid_sputum','rusty_sputum','lack_of_concentration','visual_disturbances',\n",
    "                                    'receiving_blood_transfusion','receiving_unsterile_injections','coma',\n",
    "                                    'stomach_bleeding','distention_of_abdomen','history_of_alcohol_consumption','fluid_overload_1','blood_in_sputum','prominent_veins_on_calf','palpitations','painful_walking','pus_filled_pimples','blackheads',\n",
    "                                    'scurring','skin_peeling','silver_like_dusting','small_dents_in_nails','inflammatory_nails','blister','red_sore_around_nose','yellow_crust_ooze'],\n",
    "                     class_names = sorted(y.unique()),\n",
    "                     label ='all',\n",
    "                     rounded=True,\n",
    "                     filled = True)"
   ]
  },
  {
   "cell_type": "code",
   "execution_count": 5,
   "metadata": {},
   "outputs": [
    {
     "ename": "AttributeError",
     "evalue": "module 'pydotplus' has no attribute 'graph_from_Disease'",
     "output_type": "error",
     "traceback": [
      "\u001b[1;31m---------------------------------------------------------------------------\u001b[0m",
      "\u001b[1;31mAttributeError\u001b[0m                            Traceback (most recent call last)",
      "\u001b[1;32m<ipython-input-5-f60a984af960>\u001b[0m in \u001b[0;36m<module>\u001b[1;34m\u001b[0m\n\u001b[1;32m----> 1\u001b[1;33m \u001b[0mgraph\u001b[0m \u001b[1;33m=\u001b[0m \u001b[0mpydotplus\u001b[0m\u001b[1;33m.\u001b[0m\u001b[0mgraph_from_Disease\u001b[0m\u001b[1;33m-\u001b[0m\u001b[0mPrediction\u001b[0m\u001b[1;33m.\u001b[0m\u001b[0mdot\u001b[0m\u001b[1;33m(\u001b[0m\u001b[0mDisease\u001b[0m\u001b[1;33m-\u001b[0m\u001b[0mPrediction\u001b[0m\u001b[1;33m.\u001b[0m\u001b[0mdot\u001b[0m\u001b[1;33m.\u001b[0m\u001b[0mget_value\u001b[0m\u001b[1;33m(\u001b[0m\u001b[1;33m)\u001b[0m\u001b[1;33m)\u001b[0m\u001b[1;33m\u001b[0m\u001b[1;33m\u001b[0m\u001b[0m\n\u001b[0m",
      "\u001b[1;31mAttributeError\u001b[0m: module 'pydotplus' has no attribute 'graph_from_Disease'"
     ]
    }
   ],
   "source": [
    "graph = pydotplus.graph_from_Disease-Prediction.dot(Disease-Prediction.dot.get_value())"
   ]
  },
  {
   "cell_type": "code",
   "execution_count": null,
   "metadata": {},
   "outputs": [],
   "source": []
  },
  {
   "cell_type": "code",
   "execution_count": null,
   "metadata": {},
   "outputs": [],
   "source": []
  }
 ],
 "metadata": {
  "kernelspec": {
   "display_name": "Python 3",
   "language": "python",
   "name": "python3"
  },
  "language_info": {
   "codemirror_mode": {
    "name": "ipython",
    "version": 3
   },
   "file_extension": ".py",
   "mimetype": "text/x-python",
   "name": "python",
   "nbconvert_exporter": "python",
   "pygments_lexer": "ipython3",
   "version": "3.8.5"
  }
 },
 "nbformat": 4,
 "nbformat_minor": 4
}
